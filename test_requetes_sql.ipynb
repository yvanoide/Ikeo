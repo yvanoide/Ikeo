{
 "cells": [
  {
   "cell_type": "code",
   "execution_count": 1,
   "metadata": {},
   "outputs": [],
   "source": [
    "import mysql.connector as mysql\n",
    "import pandas as pd\n",
    "\n",
    "db = mysql.connect(\n",
    "    host = \"localhost\",\n",
    "    port = 3307, \n",
    "    user = \"root\",\n",
    "    passwd = \"example\",\n",
    "    database = \"ikeo_bdd\"\n",
    ")\n",
    "\n",
    "cursor = db.cursor()\n"
   ]
  },
  {
   "cell_type": "code",
   "execution_count": 2,
   "metadata": {},
   "outputs": [
    {
     "name": "stdout",
     "output_type": "stream",
     "text": [
      "           nom                           description\n",
      "0      Knutsen     Table basse pour poser les bières\n",
      "1         Moen                   Chaise haute de bar\n",
      "2         Eide  Porte serviettes pour 100 serviettes\n",
      "3  Gulbrandsen               Lit nuage en levitation\n",
      "4        Naess               Table pour 128 convives\n",
      "5         Lund           Bureau-cafetière électrique\n",
      "6         Dahl           Tiroir à ronds de serviette\n",
      "7         Ruud                    Bureau_lit combiné\n",
      "8   Apfelgluck            Panier à chien (ou à chat)\n"
     ]
    }
   ],
   "source": [
    "# Afficher les noms et descriptions de tous les produits\n",
    "\n",
    "query = \"SELECT nom, description FROM produits\"\n",
    "cursor.execute(query)\n",
    "#creation dataframe\n",
    "df = pd.DataFrame(cursor.fetchall())\n",
    "df.columns = cursor.column_names\n",
    "\n",
    "print(df)"
   ]
  },
  {
   "cell_type": "code",
   "execution_count": 3,
   "metadata": {},
   "outputs": [
    {
     "name": "stdout",
     "output_type": "stream",
     "text": [
      "    nom\n",
      "0  Moen\n",
      "1  Dahl\n"
     ]
    }
   ],
   "source": [
    "# Afficher tous les meubles qui sont abandonnés\n",
    "\n",
    "query = \"SELECT nom FROM produits WHERE abandonne = 'Oui'\"\n",
    "cursor.execute(query)\n",
    "#creation dataframe\n",
    "df = pd.DataFrame(cursor.fetchall())\n",
    "df.columns = cursor.column_names\n",
    "\n",
    "print(df)"
   ]
  },
  {
   "cell_type": "code",
   "execution_count": 4,
   "metadata": {},
   "outputs": [],
   "source": [
    "# Effacer le Bo Meuble de Brest\n",
    "\n",
    "# query = \"DELETE FROM clients WHERE nom = 'Bo Meuble' AND ville = 'Brest'\"\n"
   ]
  },
  {
   "cell_type": "code",
   "execution_count": 5,
   "metadata": {},
   "outputs": [],
   "source": [
    "# Il y a une erreur sur le nom du meuble Apfelgluk, il faut le récrire Apfelgluck\n",
    "\n",
    "query = \"UPDATE produits SET nom = 'Apfelgluck' WHERE nom = 'Apfelgluk'\"\n",
    "cursor.execute(query)\n",
    "db.commit()\n"
   ]
  },
  {
   "cell_type": "code",
   "execution_count": 6,
   "metadata": {},
   "outputs": [],
   "source": [
    "# Ajouter un nouveau client : Tout à la maison, Place Terreaux, Lyon\n",
    "\n",
    "query = \"INSERT INTO clients (type, raison_sociale, adresse, ville, pays) VALUES ('Magasin', 'Tout à la maison', 'Place Terreaux', 'Lyon', 'France')\"\n",
    "cursor.execute(query)\n",
    "db.commit()\n"
   ]
  },
  {
   "cell_type": "code",
   "execution_count": 7,
   "metadata": {},
   "outputs": [],
   "source": [
    "# Ajouter une nouvelle facture pour le tout à la maison de Lyon , enregistré le 28/08/2018, à 18h.\n",
    "\n",
    "# query1 = \"INSERT INTO factures (numero, date, id_client) VALUES ('MSQ298', '2018-08-28', 6)\"\n",
    "# cursor.execute(query)\n",
    "# db.commit()\n",
    "\n",
    "\n",
    "# table facturer\n",
    "# query2 = \"INSERT INTO facturer (id_produit, quantite, id_facture) VALUES (5, 18, 8)\"\n",
    "# cursor.execute(query)\n",
    "# db.commit()"
   ]
  },
  {
   "cell_type": "code",
   "execution_count": 8,
   "metadata": {},
   "outputs": [
    {
     "name": "stdout",
     "output_type": "stream",
     "text": [
      "       nom\n",
      "0  Knutsen\n",
      "1     Moen\n",
      "2     Eide\n",
      "3  Knutsen\n",
      "4     Moen\n",
      "5     Lund\n"
     ]
    }
   ],
   "source": [
    "# Retrouver tous les meubles achetés par le Bo Meuble de Paris\n",
    "\n",
    "query = \"\"\"\n",
    "SELECT nom FROM produits \n",
    "JOIN facturer ON produits.id_produit = facturer.id_produit \n",
    "JOIN factures ON facturer.id_facture = factures.id_facture\n",
    "JOIN clients ON factures.id_client = clients.id_client WHERE clients.raison_sociale = 'Bo Meuble' AND clients.ville = 'Paris'\n",
    "\"\"\"\n",
    "\n",
    "cursor.execute(query)\n",
    "#creation dataframe\n",
    "df = pd.DataFrame(cursor.fetchall())\n",
    "df.columns = cursor.column_names\n",
    "\n",
    "print(df)\n",
    "\n",
    "\n"
   ]
  },
  {
   "cell_type": "code",
   "execution_count": 9,
   "metadata": {},
   "outputs": [
    {
     "name": "stdout",
     "output_type": "stream",
     "text": [
      "   numero\n",
      "0  MSQ295\n",
      "1  MSQ296\n",
      "2  MSQ297\n"
     ]
    }
   ],
   "source": [
    "# Retrouver toutes les factures enregistrées depuis le 1er juillet 2018\n",
    "\n",
    "query = \"SELECT numero FROM factures WHERE date >= '2018-07-01'\"\n",
    "\n",
    "cursor.execute(query)\n",
    "#creation dataframe\n",
    "df = pd.DataFrame(cursor.fetchall())\n",
    "df.columns = cursor.column_names\n",
    "\n",
    "print(df)\n"
   ]
  },
  {
   "cell_type": "code",
   "execution_count": 10,
   "metadata": {},
   "outputs": [
    {
     "name": "stdout",
     "output_type": "stream",
     "text": [
      "           nom SUM(quantite)\n",
      "0      Knutsen            55\n",
      "1         Moen            80\n",
      "2         Eide            90\n",
      "3  Gulbrandsen           112\n",
      "4        Naess           142\n",
      "5         Lund           189\n",
      "6         Dahl           124\n",
      "7         Ruud            25\n",
      "8   Apfelgluck           120\n"
     ]
    }
   ],
   "source": [
    "# Afficher le nombre de commandes par meubles\n",
    "\n",
    "query = \"SELECT nom, SUM(quantite) FROM facturer JOIN produits ON facturer.id_produit = produits.id_produit GROUP BY nom\"\n",
    "\n",
    "cursor.execute(query)\n",
    "#creation dataframe\n",
    "df = pd.DataFrame(cursor.fetchall())\n",
    "df.columns = cursor.column_names\n",
    "\n",
    "print(df)"
   ]
  },
  {
   "cell_type": "code",
   "execution_count": 11,
   "metadata": {},
   "outputs": [
    {
     "name": "stdout",
     "output_type": "stream",
     "text": [
      "                              raison_sociale SUM(quantite)\n",
      "0                                  Bo Meuble           167\n",
      "1                                      Mobel            99\n",
      "2                           Tout A la Maison            59\n",
      "3                          The World Company           480\n",
      "4  The Best Greatest Beautifulest Furnitures           132\n"
     ]
    }
   ],
   "source": [
    "# Afficher le nombre de commandes par clients\n",
    "\n",
    "query = \"\"\"\n",
    "SELECT raison_sociale, SUM(quantite) FROM facturer \n",
    "JOIN factures ON facturer.id_facture = factures.id_facture \n",
    "JOIN clients ON factures.id_client = clients.id_client GROUP BY raison_sociale\n",
    "\"\"\"\n",
    "\n",
    "cursor.execute(query)\n",
    "#creation dataframe\n",
    "df = pd.DataFrame(cursor.fetchall())\n",
    "df.columns = cursor.column_names\n",
    "\n",
    "print(df)"
   ]
  },
  {
   "cell_type": "code",
   "execution_count": null,
   "metadata": {},
   "outputs": [],
   "source": []
  }
 ],
 "metadata": {
  "kernelspec": {
   "display_name": "Python 3",
   "language": "python",
   "name": "python3"
  },
  "language_info": {
   "codemirror_mode": {
    "name": "ipython",
    "version": 3
   },
   "file_extension": ".py",
   "mimetype": "text/x-python",
   "name": "python",
   "nbconvert_exporter": "python",
   "pygments_lexer": "ipython3",
   "version": "3.10.6"
  },
  "orig_nbformat": 4
 },
 "nbformat": 4,
 "nbformat_minor": 2
}
